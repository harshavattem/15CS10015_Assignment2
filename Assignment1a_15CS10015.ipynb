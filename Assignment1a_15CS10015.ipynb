{
 "cells": [
  {
   "cell_type": "markdown",
   "metadata": {},
   "source": [
    "## Implementing multiple linear regression using numpy"
   ]
  },
  {
   "cell_type": "code",
   "execution_count": 1,
   "metadata": {},
   "outputs": [
    {
     "name": "stdout",
     "output_type": "stream",
     "text": [
      "1030 8\n",
      "[ 31 109 136 ... 466 121 860]\n"
     ]
    }
   ],
   "source": [
    "'''\n",
    "Name : Harsha Vattem\n",
    "Roll No: 15CS10015\n",
    "\n",
    "Assignment 1a\n",
    "'''\n",
    "\n",
    "import numpy as np\n",
    "import matplotlib.pyplot as plt\n",
    "import pandas as pd\n",
    "\n",
    "df= pd.read_csv('Concrete_Data.csv')\n",
    "df.head()\n",
    "\n",
    "X = df.iloc[:,:-1].values\n",
    "Y = df.iloc[:,-1].values\n",
    "\n",
    "rows,cols= X.shape[0], X.shape[1] \n",
    "\n",
    "print(rows,cols)\n",
    "\n",
    "np.random.seed(42) # to ensure that the same seed is generated\n",
    "\n",
    "def shuffle_dataset(X,Y):\n",
    "    \n",
    "    shuff = np.arange(len(X))\n",
    "    np.random.shuffle(shuff)\n",
    "    print(shuff)\n",
    "    X=X[shuff]\n",
    "    Y=Y[shuff]\n",
    "    \n",
    "    return X, Y\n",
    "\n",
    "X, Y = shuffle_dataset(X, Y)\n",
    "\n",
    "training_size = int(0.8*rows)\n",
    "X_train = X[:training_size]\n",
    "y_train = Y[:training_size]\n",
    "X_test = X[training_size:]\n",
    "y_test = Y[training_size:]\n"
   ]
  },
  {
   "cell_type": "markdown",
   "metadata": {},
   "source": [
    "## Defining the Linear Regression class "
   ]
  },
  {
   "cell_type": "code",
   "execution_count": 2,
   "metadata": {},
   "outputs": [],
   "source": [
    "class LinearRegression(object):\n",
    "    def __init__(self):        \n",
    "        self.w = np.random.uniform(-1.,1.,cols)\n",
    "        self.b = np.random.uniform(-1,1)\n",
    "    \n",
    "    def forward(self, x):\n",
    "        return np.add(np.dot(x, self.w), self.b)\n",
    "    \n",
    "    def backward(self, x, ypred, y_train, lr):\n",
    "        self.w = self.w - (lr * (1/len(x)) * np.dot(ypred - y_train, x))\n",
    "        self.b = self.b - (lr * (1/len(x)) * np.sum(ypred - y_train))\n",
    "                \n",
    "def MSELoss(y, ypred):\n",
    "    n = y.size\n",
    "    loss_array = np.square(y - ypred)\n",
    "    loss = np.sum(loss_array)\n",
    "    loss = loss/n\n",
    "    \n",
    "    return loss/2"
   ]
  },
  {
   "cell_type": "code",
   "execution_count": 3,
   "metadata": {},
   "outputs": [
    {
     "name": "stdout",
     "output_type": "stream",
     "text": [
      "Starting Training with Gradient Descent\n",
      "Loss fuction decrease after 10000 epochs of training\n"
     ]
    },
    {
     "data": {
      "image/png": "[encoded data removed]",
      "text/plain": [
       "<Figure size 432x288 with 1 Axes>"
      ]
     },
     "metadata": {},
     "output_type": "display_data"
    },
    {
     "name": "stdout",
     "output_type": "stream",
     "text": [
      "Final training loss: 124.74264817019981\n",
      "Starting to test\n",
      "Final test loss: 121.07114606545504\n"
     ]
    }
   ],
   "source": [
    "print('Starting Training with Gradient Descent')\n",
    "lreg = LinearRegression()\n",
    "epochs = 10000\n",
    "learning_rate = 0.0000001\n",
    "\n",
    "loss_history = []\n",
    "epoch_history = []\n",
    "\n",
    "# Gradient Descent\n",
    "for e in range(epochs):\n",
    "    ypred = lreg.forward(X_train)\n",
    "    loss = MSELoss(y_train, ypred) \n",
    "    if e==0 or (e+1)%100==0:\n",
    "        loss_history.append(loss)\n",
    "        epoch_history.append(e+1)\n",
    "    lreg.backward(X_train, ypred, y_train, learning_rate)\n",
    "\n",
    "print('Loss fuction decrease after ' + str(epochs) + ' epochs of training')\n",
    "plt.plot(epoch_history, loss_history)\n",
    "plt.show()\n",
    "   \n",
    "y_train_loss= np.sum(loss)\n",
    "print('Final training loss: ' + str(y_train_loss))\n",
    "print('Starting to test')\n",
    "ytest_pred= lreg.forward(X_test)\n",
    "loss= MSELoss(y_test, ytest_pred)\n",
    "print('Final test loss: ' + str(loss))"
   ]
  },
  {
   "cell_type": "code",
   "execution_count": null,
   "metadata": {},
   "outputs": [],
   "source": []
  }
 ],
 "metadata": {
  "kernelspec": {
   "display_name": "Python 3",
   "language": "python",
   "name": "python3"
  },
  "language_info": {
   "codemirror_mode": {
    "name": "ipython",
    "version": 3
   },
   "file_extension": ".py",
   "mimetype": "text/x-python",
   "name": "python",
   "nbconvert_exporter": "python",
   "pygments_lexer": "ipython3",
   "version": "3.6.5"
  }
 },
 "nbformat": 4,
 "nbformat_minor": 2
}
