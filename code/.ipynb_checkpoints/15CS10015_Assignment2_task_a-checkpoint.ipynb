{
 "cells": [
  {
   "cell_type": "code",
   "execution_count": 33,
   "metadata": {},
   "outputs": [],
   "source": [
    "%matplotlib inline\n",
    "\n",
    "import numpy as np\n",
    "import data_loader\n",
    "import module\n",
    "from data_loader import DataLoader\n",
    "\n",
    "import matplotlib.pyplot as plt\n",
    "import matplotlib.patches as mpatches\n",
    "import os\n",
    "\n",
    "import mxnet as mx\n",
    "from mxnet import nd, autograd, gluon\n",
    "\n",
    "ctx = mx.cpu()\n",
    "data_ctx = ctx\n",
    "model_ctx = ctx"
   ]
  },
  {
   "cell_type": "markdown",
   "metadata": {},
   "source": [
    "## Custom Dataset class"
   ]
  },
  {
   "cell_type": "code",
   "execution_count": 34,
   "metadata": {},
   "outputs": [],
   "source": [
    "dl = DataLoader()\n",
    "\n",
    "class CustomDataset:\n",
    "    \n",
    "    def __init__(self, mode, dataset = 'all'):\n",
    "        self.x, self.y = dl.load_data(mode, dataset)\n",
    "    \n",
    "    def __getitem__(self, i):\n",
    "        return self.x[i], self.y[i]\n",
    "    \n",
    "    def __len__(self):\n",
    "        return len(self.y)        "
   ]
  },
  {
   "cell_type": "code",
   "execution_count": 35,
   "metadata": {},
   "outputs": [],
   "source": [
    "def evaluate_accuracy(data_iterator, net):\n",
    "    acc = mx.metric.Accuracy()\n",
    "    for i, (data, label) in enumerate(data_iterator):\n",
    "        data = data.as_in_context(model_ctx).reshape((-1, 784))\n",
    "        label = label.as_in_context(model_ctx)\n",
    "        data = mx.ndarray.cast(data, dtype='float32')\n",
    "        output = net(data)\n",
    "        predictions = nd.argmax(output, axis=1)\n",
    "        acc.update(preds=predictions, labels=label)\n",
    "    return acc.get()[1]"
   ]
  },
  {
   "cell_type": "markdown",
   "metadata": {},
   "source": [
    "# TRAINING"
   ]
  },
  {
   "cell_type": "code",
   "execution_count": 36,
   "metadata": {},
   "outputs": [],
   "source": [
    "batch_size = 64\n",
    "\n",
    "train_data = mx.gluon.data.DataLoader(CustomDataset('train', 'train'), batch_size, shuffle=True)\n",
    "test_data = mx.gluon.data.DataLoader(CustomDataset('train', 'validation'), batch_size, shuffle=False)\n",
    "\n",
    "epochs = 15\n",
    "num_examples = len(train_data)"
   ]
  },
  {
   "cell_type": "markdown",
   "metadata": {},
   "source": [
    "## Deep Network"
   ]
  },
  {
   "cell_type": "code",
   "execution_count": 37,
   "metadata": {},
   "outputs": [],
   "source": [
    "layer = [512, 128, 64, 32, 16]\n",
    "lout = 10\n",
    "net1 = gluon.nn.Sequential()\n",
    "with net1.name_scope():\n",
    "    net1.add(gluon.nn.Dense(layer[0], activation=\"relu\"))\n",
    "    net1.add(gluon.nn.Dense(layer[1], activation=\"relu\"))\n",
    "    net1.add(gluon.nn.Dense(layer[2], activation=\"relu\"))\n",
    "    net1.add(gluon.nn.Dense(layer[3], activation=\"relu\"))\n",
    "    net1.add(gluon.nn.Dense(layer[4], activation=\"relu\"))\n",
    "    net1.add(gluon.nn.Dense(lout))"
   ]
  },
  {
   "cell_type": "code",
   "execution_count": 38,
   "metadata": {},
   "outputs": [],
   "source": [
    "net1.collect_params().initialize(mx.init.Uniform(.1), ctx=model_ctx, force_reinit=True)\n",
    "softmax_cross_entropy = gluon.loss.SoftmaxCrossEntropyLoss()\n",
    "trainer = gluon.Trainer(net1.collect_params(), 'sgd', {'learning_rate': .001})"
   ]
  },
  {
   "cell_type": "code",
   "execution_count": 39,
   "metadata": {},
   "outputs": [
    {
     "name": "stdout",
     "output_type": "stream",
     "text": [
      "Epoch 0. Loss: 91.37245846665613, Train_acc 0.6524761904761904, Test_acc 0.6535555555555556\n",
      "Epoch 1. Loss: 48.18423651995724, Train_acc 0.7479047619047619, Test_acc 0.745\n",
      "Epoch 2. Loss: 40.15788326524709, Train_acc 0.7515238095238095, Test_acc 0.7479444444444444\n",
      "Epoch 3. Loss: 36.19982702692168, Train_acc 0.7969761904761905, Test_acc 0.7905\n",
      "Epoch 4. Loss: 33.88163188458215, Train_acc 0.7732380952380953, Test_acc 0.7678333333333334\n",
      "Epoch 5. Loss: 32.19216015712674, Train_acc 0.8189047619047619, Test_acc 0.8117222222222222\n",
      "Epoch 6. Loss: 30.807409186341445, Train_acc 0.7886904761904762, Test_acc 0.7816666666666666\n",
      "Epoch 7. Loss: 29.736098368236828, Train_acc 0.828952380952381, Test_acc 0.8212222222222222\n",
      "Epoch 8. Loss: 28.83474607119277, Train_acc 0.8149761904761905, Test_acc 0.8083333333333333\n",
      "Epoch 9. Loss: 27.89152082097766, Train_acc 0.8171666666666667, Test_acc 0.8058888888888889\n",
      "Epoch 10. Loss: 27.19635074468871, Train_acc 0.8529761904761904, Test_acc 0.8386666666666667\n",
      "Epoch 11. Loss: 26.495458748786962, Train_acc 0.8520952380952381, Test_acc 0.8383333333333334\n",
      "Epoch 12. Loss: 26.02119751426546, Train_acc 0.8097380952380953, Test_acc 0.7958333333333333\n",
      "Epoch 13. Loss: 25.395077966663937, Train_acc 0.8348095238095238, Test_acc 0.8211666666666667\n",
      "Epoch 14. Loss: 24.98269044391278, Train_acc 0.8288095238095238, Test_acc 0.812\n"
     ]
    }
   ],
   "source": [
    "loss_arr = []\n",
    "valid_acc = []\n",
    "for e in range(epochs):\n",
    "    cumulative_loss = 0\n",
    "    for i, (data, label) in enumerate(train_data):\n",
    "        data = data.as_in_context(model_ctx).reshape((-1, 784))\n",
    "        label = label.as_in_context(model_ctx)\n",
    "        \n",
    "        with autograd.record():\n",
    "            data = mx.ndarray.cast(data, dtype='float32')\n",
    "            output = net1(data)\n",
    "            loss = softmax_cross_entropy(output, label)\n",
    "        loss.backward()\n",
    "        trainer.step(data.shape[0])\n",
    "        cumulative_loss += nd.sum(loss).asscalar()\n",
    "    \n",
    "    loss_arr.append(cumulative_loss/num_examples)\n",
    "\n",
    "    test_accuracy = evaluate_accuracy(test_data, net1)\n",
    "    train_accuracy = evaluate_accuracy(train_data, net1)\n",
    "#     print(\"Epoch %s. Loss: %s, Train_acc %s, Test_acc %s\" %(e, cumulative_loss/num_examples, train_accuracy, test_accuracy))\n",
    "    valid_acc.append(test_accuracy)\n",
    "\n",
    "loss_arr1 = loss_arr.copy()\n",
    "valid_acc1 = valid_acc.copy()"
   ]
  },
  {
   "cell_type": "code",
   "execution_count": 40,
   "metadata": {},
   "outputs": [],
   "source": [
    "filename = os.path.join('weights','a1.params')\n",
    "net1.save_parameters(filename)"
   ]
  },
  {
   "cell_type": "markdown",
   "metadata": {},
   "source": [
    "## Shallow Network"
   ]
  },
  {
   "cell_type": "code",
   "execution_count": 41,
   "metadata": {},
   "outputs": [],
   "source": [
    "layer = [1024, 512, 256]\n",
    "lout = 10\n",
    "net2 = gluon.nn.Sequential()\n",
    "with net2.name_scope():\n",
    "    net2.add(gluon.nn.Dense(layer[0], activation=\"relu\"))\n",
    "    net2.add(gluon.nn.Dense(layer[1], activation=\"relu\"))\n",
    "    net2.add(gluon.nn.Dense(layer[2], activation=\"relu\"))\n",
    "    net2.add(gluon.nn.Dense(lout))"
   ]
  },
  {
   "cell_type": "code",
   "execution_count": 42,
   "metadata": {},
   "outputs": [],
   "source": [
    "net2.collect_params().initialize(mx.init.Uniform(.1), ctx=model_ctx, force_reinit=True)\n",
    "softmax_cross_entropy = gluon.loss.SoftmaxCrossEntropyLoss()\n",
    "trainer = gluon.Trainer(net2.collect_params(), 'sgd', {'learning_rate': .001})"
   ]
  },
  {
   "cell_type": "code",
   "execution_count": 43,
   "metadata": {},
   "outputs": [
    {
     "name": "stdout",
     "output_type": "stream",
     "text": [
      "Epoch 0. Loss: 284.2032279648919, Train_acc 0.7595952380952381, Test_acc 0.7446666666666667\n",
      "Epoch 1. Loss: 33.09280397104528, Train_acc 0.8371190476190477, Test_acc 0.8136111111111111\n",
      "Epoch 2. Loss: 28.65866597058022, Train_acc 0.8395, Test_acc 0.813\n",
      "Epoch 3. Loss: 25.91834103280914, Train_acc 0.8249047619047619, Test_acc 0.8005555555555556\n",
      "Epoch 4. Loss: 24.06332854919782, Train_acc 0.8723333333333333, Test_acc 0.8374444444444444\n",
      "Epoch 5. Loss: 22.54178304505312, Train_acc 0.8730952380952381, Test_acc 0.8375\n",
      "Epoch 6. Loss: 21.37960065136943, Train_acc 0.8826666666666667, Test_acc 0.8423333333333334\n",
      "Epoch 7. Loss: 20.317510324707495, Train_acc 0.8816904761904761, Test_acc 0.8427777777777777\n",
      "Epoch 8. Loss: 19.43954952485304, Train_acc 0.8828095238095238, Test_acc 0.8377777777777777\n",
      "Epoch 9. Loss: 18.586051157438956, Train_acc 0.8855, Test_acc 0.8397777777777777\n",
      "Epoch 10. Loss: 17.90212858757472, Train_acc 0.8984761904761904, Test_acc 0.8491111111111111\n",
      "Epoch 11. Loss: 17.262153825077654, Train_acc 0.9026666666666666, Test_acc 0.851\n",
      "Epoch 12. Loss: 16.707595823743752, Train_acc 0.9066190476190477, Test_acc 0.8556111111111111\n",
      "Epoch 13. Loss: 16.144016369292725, Train_acc 0.9065714285714286, Test_acc 0.8479444444444444\n",
      "Epoch 14. Loss: 15.592712509759123, Train_acc 0.8940714285714285, Test_acc 0.8400555555555556\n"
     ]
    }
   ],
   "source": [
    "loss_arr = []\n",
    "valid_acc = []\n",
    "for e in range(epochs):\n",
    "    cumulative_loss = 0\n",
    "    for i, (data, label) in enumerate(train_data):\n",
    "        data = data.as_in_context(model_ctx).reshape((-1, 784))\n",
    "        label = label.as_in_context(model_ctx)\n",
    "        \n",
    "        with autograd.record():\n",
    "            data = mx.ndarray.cast(data, dtype='float32')\n",
    "            output = net2(data)\n",
    "            loss = softmax_cross_entropy(output, label)\n",
    "        loss.backward()\n",
    "        trainer.step(data.shape[0])\n",
    "        cumulative_loss += nd.sum(loss).asscalar()\n",
    "    \n",
    "    loss_arr.append(cumulative_loss/num_examples)\n",
    "\n",
    "    test_accuracy = evaluate_accuracy(test_data, net2)\n",
    "    train_accuracy = evaluate_accuracy(train_data, net2)\n",
    "#     print(\"Epoch %s. Loss: %s, Train_acc %s, Test_acc %s\" %(e, cumulative_loss/num_examples, train_accuracy, test_accuracy)) \n",
    "    valid_acc.append(test_accuracy)\n",
    "\n",
    "loss_arr2 = loss_arr.copy()\n",
    "valid_acc2 = valid_acc.copy()"
   ]
  },
  {
   "cell_type": "code",
   "execution_count": 44,
   "metadata": {},
   "outputs": [],
   "source": [
    "filename = os.path.join('weights','a2.params')\n",
    "net2.save_parameters(filename)"
   ]
  },
  {
   "cell_type": "markdown",
   "metadata": {},
   "source": [
    "## Graphical Comparison"
   ]
  },
  {
   "cell_type": "code",
   "execution_count": 45,
   "metadata": {},
   "outputs": [
    {
     "data": {
      "image/png": "[encoded data removed]",
      "text/plain": [
       "<Figure size 576x432 with 1 Axes>"
      ]
     },
     "metadata": {},
     "output_type": "display_data"
    }
   ],
   "source": [
    "plt.figure(figsize=(8,6))\n",
    "plt.xlabel('Epochs', fontsize=15)\n",
    "plt.ylabel('Loss', fontsize=15)\n",
    "plt.plot(loss_arr1, label='Deep Network', linewidth=3)\n",
    "plt.plot(loss_arr2, label = 'Shallow Network', linewidth=3)\n",
    "plt.legend(fontsize='x-large')\n",
    "plt.show()"
   ]
  },
  {
   "cell_type": "code",
   "execution_count": 46,
   "metadata": {},
   "outputs": [
    {
     "data": {
      "image/png": "[encoded data removed]",
      "text/plain": [
       "<Figure size 576x432 with 1 Axes>"
      ]
     },
     "metadata": {},
     "output_type": "display_data"
    }
   ],
   "source": [
    "plt.figure(figsize=(8,6))\n",
    "plt.xlabel('Epochs', fontsize=15)\n",
    "plt.ylabel('Validation', fontsize=15)\n",
    "plt.plot(valid_acc1, label='Deep Network', linewidth=3)\n",
    "plt.plot(valid_acc2, label = 'Shallow Network', linewidth=3)\n",
    "plt.legend(fontsize='x-large')\n",
    "plt.show()"
   ]
  },
  {
   "cell_type": "markdown",
   "metadata": {},
   "source": [
    "# TESTING"
   ]
  },
  {
   "cell_type": "code",
   "execution_count": 47,
   "metadata": {},
   "outputs": [],
   "source": [
    "layer = [512, 128, 64, 32, 16]\n",
    "lout = 10\n",
    "net1 = gluon.nn.Sequential()\n",
    "with net1.name_scope():\n",
    "    net1.add(gluon.nn.Dense(layer[0], activation=\"relu\"))\n",
    "    net1.add(gluon.nn.Dense(layer[1], activation=\"relu\"))\n",
    "    net1.add(gluon.nn.Dense(layer[2], activation=\"relu\"))\n",
    "    net1.add(gluon.nn.Dense(layer[3], activation=\"relu\"))\n",
    "    net1.add(gluon.nn.Dense(layer[4], activation=\"relu\"))\n",
    "    net1.add(gluon.nn.Dense(lout))\n",
    "filename = os.path.join('weights','a1.params')\n",
    "if not (os.path.isfile(filename)):\n",
    "    print('No data for NN1')\n",
    "    sys.exit()\n",
    "net1.load_parameters(filename, ctx=ctx)\n",
    "\n",
    "layer = [1024, 512, 256]\n",
    "lout = 10\n",
    "net2 = gluon.nn.Sequential()\n",
    "with net2.name_scope():\n",
    "    net2.add(gluon.nn.Dense(layer[0], activation=\"relu\"))\n",
    "    net2.add(gluon.nn.Dense(layer[1], activation=\"relu\"))\n",
    "    net2.add(gluon.nn.Dense(layer[2], activation=\"relu\"))\n",
    "    net2.add(gluon.nn.Dense(lout))\n",
    "filename = os.path.join('weights','a2.params')\n",
    "if not (os.path.isfile(filename)):\n",
    "    print('No data for NN2')\n",
    "    sys.exit()\n",
    "net2.load_parameters(filename, ctx=ctx)\n"
   ]
  },
  {
   "cell_type": "code",
   "execution_count": 48,
   "metadata": {},
   "outputs": [
    {
     "name": "stdout",
     "output_type": "stream",
     "text": [
      "0.8093\n",
      "0.8337\n"
     ]
    }
   ],
   "source": [
    "test_data = mx.gluon.data.DataLoader(CustomDataset('test', 'validation'), batch_size, last_batch='keep', shuffle=False)\n",
    "print(evaluate_accuracy(test_data, net1))\n",
    "print(evaluate_accuracy(test_data, net2))\n"
   ]
  },
  {
   "cell_type": "code",
   "execution_count": null,
   "metadata": {},
   "outputs": [],
   "source": []
  }
 ],
 "metadata": {
  "kernelspec": {
   "display_name": "Python 3",
   "language": "python",
   "name": "python3"
  },
  "language_info": {
   "codemirror_mode": {
    "name": "ipython",
    "version": 3
   },
   "file_extension": ".py",
   "mimetype": "text/x-python",
   "name": "python",
   "nbconvert_exporter": "python",
   "pygments_lexer": "ipython3",
   "version": "3.6.5"
  }
 },
 "nbformat": 4,
 "nbformat_minor": 2
}
