{
 "cells": [
  {
   "cell_type": "code",
   "execution_count": null,
   "metadata": {},
   "outputs": [],
   "source": [
    "%matplotlib inline\n",
    "\n",
    "import os\n",
    "import numpy as np\n",
    "import data_loader\n",
    "import module\n",
    "from data_loader import DataLoader\n",
    "\n",
    "from sklearn.linear_model import LogisticRegression\n",
    "\n",
    "import pickle\n",
    "from sklearn.externals import joblib\n",
    "\n",
    "import matplotlib.pyplot as plt\n",
    "\n",
    "import mxnet as mx\n",
    "from mxnet import nd, autograd, gluon\n",
    "\n",
    "ctx = mx.cpu()\n",
    "data_ctx = ctx\n",
    "model_ctx = ctx"
   ]
  },
  {
   "cell_type": "code",
   "execution_count": null,
   "metadata": {},
   "outputs": [],
   "source": [
    "dl = DataLoader()\n",
    "\n",
    "class CustomDataset:\n",
    "    \n",
    "    def __init__(self, mode, dataset = 'all'):\n",
    "        self.x, self.y = dl.load_data(mode, dataset)\n",
    "    \n",
    "    def __getitem__(self, i):\n",
    "        return self.x[i], self.y[i]\n",
    "    \n",
    "    def __len__(self):\n",
    "        return len(self.y)        "
   ]
  },
  {
   "cell_type": "code",
   "execution_count": null,
   "metadata": {},
   "outputs": [],
   "source": [
    "def evaluate_accuracy(data_iterator, net):\n",
    "    acc = mx.metric.Accuracy()\n",
    "    for i, (data, label) in enumerate(data_iterator):\n",
    "        data = data.as_in_context(model_ctx).reshape((-1, 784))\n",
    "        label = label.as_in_context(model_ctx)\n",
    "        data = mx.ndarray.cast(data, dtype='float32')\n",
    "        output = net(data)\n",
    "        predictions = nd.argmax(output, axis=1)\n",
    "        acc.update(preds=predictions, labels=label)\n",
    "    return acc.get()[1]"
   ]
  },
  {
   "cell_type": "markdown",
   "metadata": {},
   "source": [
    "## TRAINING"
   ]
  },
  {
   "cell_type": "code",
   "execution_count": null,
   "metadata": {},
   "outputs": [],
   "source": [
    "batch_size = 64\n",
    "\n",
    "train_set = CustomDataset('train', 'train')\n",
    "valid_set = CustomDataset('train', 'validation')"
   ]
  },
  {
   "cell_type": "code",
   "execution_count": null,
   "metadata": {},
   "outputs": [],
   "source": [
    "layer = [1024, 512, 256]\n",
    "lout = 10\n",
    "net = gluon.nn.Sequential()\n",
    "with net.name_scope():\n",
    "    net.add(gluon.nn.Dense(layer[0], activation=\"relu\"))\n",
    "    net.add(gluon.nn.Dense(layer[1], activation=\"relu\"))\n",
    "    net.add(gluon.nn.Dense(layer[2], activation=\"relu\"))\n",
    "    net.add(gluon.nn.Dense(lout))"
   ]
  },
  {
   "cell_type": "code",
   "execution_count": null,
   "metadata": {},
   "outputs": [],
   "source": [
    "filename = os.path.join('weights','a2.params')\n",
    "if not (os.path.isfile(filename)):\n",
    "    print('No data')\n",
    "    sys.exit()\n",
    "else:\n",
    "    net.load_parameters(filename, ctx=ctx)\n"
   ]
  },
  {
   "cell_type": "code",
   "execution_count": null,
   "metadata": {},
   "outputs": [],
   "source": [
    "for i in range(0,3):\n",
    "    if i == 0:\n",
    "    \ttrain_x = nd.relu(net[0](mx.nd.array(train_set.x).reshape(len(train_set),784)))\n",
    "    \tvalid_x = nd.relu(net[0](mx.nd.array(valid_set.x).reshape(len(valid_set),784)))\n",
    "    else :\n",
    "    \ttrain_x = nd.relu(net[i](train_x))\n",
    "    \tvalid_x = nd.relu(net[i](valid_x))\n",
    "    clf = LogisticRegression(random_state=0, solver='lbfgs', multi_class='multinomial').fit(train_x.asnumpy(), train_set.y)\n",
    "    print('Layer ' + str(i) + ':')\n",
    "    print('Train accuracy: ' + str(100 * clf.score(train_x.asnumpy(), train_set.y)) + '%')\n",
    "    print('Validation accuracy: ' + str(100 * clf.score(valid_x.asnumpy(), valid_set.y)) + '%')\n",
    "    print()\n",
    "    \n",
    "    layername = str(i)\n",
    "    filename = os.path.join('weights','c' + layername + '.joblib')\n",
    "    joblib.dump(clf, filename)\n",
    "    "
   ]
  },
  {
   "cell_type": "markdown",
   "metadata": {},
   "source": [
    "## TESTING"
   ]
  },
  {
   "cell_type": "code",
   "execution_count": null,
   "metadata": {},
   "outputs": [],
   "source": [
    "layer = [1024, 512, 256]\n",
    "lout = 10\n",
    "net = gluon.nn.Sequential()\n",
    "with net.name_scope():\n",
    "    net.add(gluon.nn.Dense(layer[0], activation=\"relu\"))\n",
    "    net.add(gluon.nn.Dense(layer[1], activation=\"relu\"))\n",
    "    net.add(gluon.nn.Dense(layer[2], activation=\"relu\"))\n",
    "    net.add(gluon.nn.Dense(lout))"
   ]
  },
  {
   "cell_type": "code",
   "execution_count": null,
   "metadata": {},
   "outputs": [],
   "source": [
    "filename = os.path.join('weights','a2.params')\n",
    "if not (os.path.isfile(filename)):\n",
    "    print('No data')\n",
    "    sys.exit()\n",
    "else:\n",
    "    net.load_parameters(filename, ctx=ctx)"
   ]
  },
  {
   "cell_type": "code",
   "execution_count": null,
   "metadata": {},
   "outputs": [],
   "source": [
    "test_set = CustomDataset('test', '')"
   ]
  },
  {
   "cell_type": "code",
   "execution_count": null,
   "metadata": {},
   "outputs": [],
   "source": [
    "for i in range(0,3):\n",
    "    if i == 0:\n",
    "    \ttest_x = nd.relu(net[0](mx.nd.array(test_set.x).reshape(len(test_set),784)))\n",
    "    else :\n",
    "    \ttest_x = nd.relu(net[i](test_x))\n",
    "        \n",
    "    layername = str(i)\n",
    "    filename = os.path.join('weights','c' + layername + '.joblib')\n",
    "    clf = joblib.load(filename)\n",
    "        \n",
    "    print('Accuracy (Layer '+ str(i) + '): ' + str(100 * clf.score(test_x.asnumpy(), test_set.y)) + '%')\n"
   ]
  },
  {
   "cell_type": "code",
   "execution_count": null,
   "metadata": {},
   "outputs": [],
   "source": []
  }
 ],
 "metadata": {
  "kernelspec": {
   "display_name": "Python 3",
   "language": "python",
   "name": "python3"
  },
  "language_info": {
   "codemirror_mode": {
    "name": "ipython",
    "version": 3
   },
   "file_extension": ".py",
   "mimetype": "text/x-python",
   "name": "python",
   "nbconvert_exporter": "python",
   "pygments_lexer": "ipython3",
   "version": "3.6.5"
  }
 },
 "nbformat": 4,
 "nbformat_minor": 2
}
