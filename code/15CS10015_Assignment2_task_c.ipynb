{
 "cells": [
  {
   "cell_type": "code",
   "execution_count": 1,
   "metadata": {},
   "outputs": [
    {
     "name": "stderr",
     "output_type": "stream",
     "text": [
      "/home/harsha/anaconda3/lib/python3.6/site-packages/h5py/__init__.py:36: FutureWarning: Conversion of the second argument of issubdtype from `float` to `np.floating` is deprecated. In future, it will be treated as `np.float64 == np.dtype(float).type`.\n",
      "  from ._conv import register_converters as _register_converters\n"
     ]
    }
   ],
   "source": [
    "%matplotlib inline\n",
    "\n",
    "import os\n",
    "import numpy as np\n",
    "import data_loader\n",
    "import module\n",
    "from data_loader import DataLoader\n",
    "\n",
    "import matplotlib.pyplot as plt\n",
    "\n",
    "import mxnet as mx\n",
    "from mxnet import nd, autograd, gluon\n",
    "\n",
    "ctx = mx.cpu()\n",
    "data_ctx = ctx\n",
    "model_ctx = ctx"
   ]
  },
  {
   "cell_type": "code",
   "execution_count": 2,
   "metadata": {},
   "outputs": [],
   "source": [
    "dl = DataLoader()\n",
    "\n",
    "class CustomDataset:\n",
    "    \n",
    "    def __init__(self, mode, dataset = 'all'):\n",
    "        self.x, self.y = dl.load_data(mode, dataset)\n",
    "    \n",
    "    def __getitem__(self, i):\n",
    "        return self.x[i], self.y[i]\n",
    "    \n",
    "    def __len__(self):\n",
    "        return len(self.y)        "
   ]
  },
  {
   "cell_type": "code",
   "execution_count": 3,
   "metadata": {},
   "outputs": [],
   "source": [
    "def evaluate_accuracy(data_iterator, net):\n",
    "    acc = mx.metric.Accuracy()\n",
    "    for i, (data, label) in enumerate(data_iterator):\n",
    "        data = data.as_in_context(model_ctx).reshape((-1, 784))\n",
    "        label = label.as_in_context(model_ctx)\n",
    "        data = mx.ndarray.cast(data, dtype='float32')\n",
    "        output = net(data)\n",
    "        predictions = nd.argmax(output, axis=1)\n",
    "        acc.update(preds=predictions, labels=label)\n",
    "    return acc.get()[1]"
   ]
  },
  {
   "cell_type": "code",
   "execution_count": 4,
   "metadata": {},
   "outputs": [],
   "source": [
    "batch_size = 64\n",
    "\n",
    "epochs = 5\n"
   ]
  },
  {
   "cell_type": "code",
   "execution_count": 5,
   "metadata": {},
   "outputs": [],
   "source": [
    "layer = [1024, 512, 256]\n",
    "lout = 10\n",
    "net = gluon.nn.Sequential()\n",
    "with net.name_scope():\n",
    "    net.add(gluon.nn.Dense(layer[0], activation=\"relu\"))\n",
    "    net.add(gluon.nn.Dense(layer[1], activation=\"relu\"))\n",
    "    net.add(gluon.nn.Dense(layer[2], activation=\"relu\"))\n",
    "    net.add(gluon.nn.Dense(lout))"
   ]
  },
  {
   "cell_type": "code",
   "execution_count": null,
   "metadata": {},
   "outputs": [],
   "source": [
    "test_data = mx.gluon.data.DataLoader(CustomDataset('test'), batch_size, last_batch='keep', shuffle=False)\n",
    "num_examples = len(test_data)e"
   ]
  },
  {
   "cell_type": "code",
   "execution_count": 6,
   "metadata": {},
   "outputs": [],
   "source": [
    "filename = os.path.join('weights','a2.params')\n",
    "if not (os.path.isfile(filename)):\n",
    "    print('No data')\n",
    "else:\n",
    "    net.load_parameters(filename, ctx=ctx)"
   ]
  },
  {
   "cell_type": "code",
   "execution_count": 7,
   "metadata": {},
   "outputs": [
    {
     "name": "stdout",
     "output_type": "stream",
     "text": [
      "\n",
      "[[-0.09292752  0.05672959 -0.01391952 ...  0.05448012 -0.10445656\n",
      "   0.02179773]\n",
      " [ 0.04634572 -0.0366332  -0.02660666 ... -0.12686409 -0.04906755\n",
      "  -0.01217611]\n",
      " [ 0.00463387 -0.02103078 -0.01972455 ...  0.09320753  0.0850344\n",
      "   0.02394087]\n",
      " ...\n",
      " [-0.01200984 -0.02932502 -0.01545437 ... -0.01229158 -0.09649253\n",
      "   0.00595577]\n",
      " [-0.09546756  0.05183284  0.04238009 ... -0.0927762  -0.09471682\n",
      "   0.01009668]\n",
      " [-0.00258917  0.01487542 -0.01414191 ...  0.03011474 -0.02583131\n",
      "   0.08994317]]\n",
      "<NDArray 1024x784 @cpu(0)>\n"
     ]
    }
   ],
   "source": [
    "print(net[0].weight.data())"
   ]
  },
  {
   "cell_type": "code",
   "execution_count": null,
   "metadata": {},
   "outputs": [],
   "source": []
  }
 ],
 "metadata": {
  "kernelspec": {
   "display_name": "Python 3",
   "language": "python",
   "name": "python3"
  },
  "language_info": {
   "codemirror_mode": {
    "name": "ipython",
    "version": 3
   },
   "file_extension": ".py",
   "mimetype": "text/x-python",
   "name": "python",
   "nbconvert_exporter": "python",
   "pygments_lexer": "ipython3",
   "version": "3.6.5"
  }
 },
 "nbformat": 4,
 "nbformat_minor": 2
}
